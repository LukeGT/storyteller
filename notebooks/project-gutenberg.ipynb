{
 "cells": [
  {
   "cell_type": "code",
   "execution_count": null,
   "metadata": {
    "tags": [
     "outputPrepend"
    ]
   },
   "outputs": [],
   "source": [
    "import re\n",
    "\n",
    "with open('data/stories.csv', encoding='utf-8') as f:\n",
    "    searching = False\n",
    "    leading_lines = []\n",
    "    for line in f:\n",
    "        if searching:\n",
    "            if re.match(r'.+', line):\n",
    "                leading_lines.append(line)\n",
    "                print(line)\n",
    "                searching = False\n",
    "        else:\n",
    "            if re.search(r'\\*  .*\\*', line):\n",
    "                searching = True\n",
    "\n",
    "leading_lines"
   ]
  },
  {
   "cell_type": "code",
   "execution_count": null,
   "metadata": {},
   "outputs": [],
   "source": [
    "adjacent_punctuation = list('()\"\\'')\n",
    "ending_punctuation = list('.!?')\n",
    "end_strings = ending_punctuation + [\n",
    "    adjacent + ending\n",
    "    for adjacent in adjacent_punctuation\n",
    "    for ending in ending_punctuation\n",
    "] + [\n",
    "    ending + adjacent\n",
    "    for adjacent in adjacent_punctuation\n",
    "    for ending in ending_punctuation\n",
    "]\n",
    "end_strings"
   ]
  }
 ],
 "metadata": {
  "kernelspec": {
   "display_name": "Python 3.7.7 64-bit ('env')",
   "metadata": {
    "interpreter": {
     "hash": "42511e1a1d8851f2fb65363c67830e4b6c49422ea57e69189360b78160dbc09c"
    }
   },
   "name": "Python 3.7.7 64-bit ('env')"
  },
  "language_info": {
   "codemirror_mode": {
    "name": "ipython",
    "version": 3
   },
   "file_extension": ".py",
   "mimetype": "text/x-python",
   "name": "python",
   "nbconvert_exporter": "python",
   "pygments_lexer": "ipython3",
   "version": "3.7.7-final"
  },
  "orig_nbformat": 2
 },
 "nbformat": 4,
 "nbformat_minor": 2
}
